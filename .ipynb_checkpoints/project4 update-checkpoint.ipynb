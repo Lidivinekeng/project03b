{
 "cells": [
  {
   "cell_type": "code",
   "execution_count": 51,
   "id": "6f5eb3be",
   "metadata": {},
   "outputs": [],
   "source": [
    "import pandas as pd\n",
    "import numpy as np\n",
    "import matplotlib.pyplot as plt\n",
    "import matplotlib.dates as mdates\n",
    "import matplotlib.ticker as mticks\n",
    "import seaborn as sns\n",
    "import zipfile\n",
    "from statsmodels.tsa.seasonal import seasonal_decompose\n",
    "\n",
    "\n",
    "import missingno as miss\n",
    "import datetime as dt\n",
    "import statsmodels.tsa.api as tsa\n",
    "\n",
    "plt.rcParams['figure.figsize'] = [10,5]"
   ]
  },
  {
   "cell_type": "code",
   "execution_count": null,
   "id": "a4a17e88",
   "metadata": {},
   "outputs": [],
   "source": [
    "http://localhost:8891/edit/Chicago_Crime_2001-2022.zip\n",
    "        C:\\Users\\lidiv\\core\\project04\\Chicago_Crime_2001-2022.zip"
   ]
  },
  {
   "cell_type": "code",
   "execution_count": 5,
   "id": "aafbe1b6",
   "metadata": {},
   "outputs": [],
   "source": [
    "#downloaded the zip file and extracted it to a folder\n",
    "\n",
    "zip_file_path = r\"C:\\Users\\lidiv\\core\\project04\\Chicago_Crime_2001-2022.zip\""
   ]
  },
  {
   "cell_type": "code",
   "execution_count": 7,
   "id": "5821c109",
   "metadata": {},
   "outputs": [],
   "source": [
    "# List to store individual DataFrames\n",
    "dfs = []"
   ]
  },
  {
   "cell_type": "code",
   "execution_count": 10,
   "id": "55018f94",
   "metadata": {},
   "outputs": [],
   "source": [
    "# Open the ZIP file\n",
    "with zipfile.ZipFile(zip_file_path, 'r') as zip_file:\n",
    "    # Iterate through the files in the ZIP archive\n",
    "    for file_name in zip_file.namelist():\n",
    "        # Check if the file is a CSV file\n",
    "        if file_name.endswith('.csv'):\n",
    "            # Read the CSV file from the ZIP archive\n",
    "            with zip_file.open(file_name) as csv_file:\n",
    "                # Read the CSV data into a DataFrame\n",
    "                df = pd.read_csv(csv_file, parse_dates=['Date'])\n",
    "                # Append the DataFrame to the list\n",
    "                dfs.append(df)"
   ]
  },
  {
   "cell_type": "code",
   "execution_count": 11,
   "id": "20f03abe",
   "metadata": {},
   "outputs": [],
   "source": [
    "# Concatenate all DataFrames into a single DataFrame\n",
    "df = pd.concat(dfs, ignore_index=True)\n"
   ]
  },
  {
   "cell_type": "code",
   "execution_count": 12,
   "id": "68b078db",
   "metadata": {},
   "outputs": [
    {
     "data": {
      "text/html": [
       "<div>\n",
       "<style scoped>\n",
       "    .dataframe tbody tr th:only-of-type {\n",
       "        vertical-align: middle;\n",
       "    }\n",
       "\n",
       "    .dataframe tbody tr th {\n",
       "        vertical-align: top;\n",
       "    }\n",
       "\n",
       "    .dataframe thead th {\n",
       "        text-align: right;\n",
       "    }\n",
       "</style>\n",
       "<table border=\"1\" class=\"dataframe\">\n",
       "  <thead>\n",
       "    <tr style=\"text-align: right;\">\n",
       "      <th></th>\n",
       "      <th>ID</th>\n",
       "      <th>Date</th>\n",
       "      <th>Primary Type</th>\n",
       "      <th>Description</th>\n",
       "      <th>Location Description</th>\n",
       "      <th>Arrest</th>\n",
       "      <th>Domestic</th>\n",
       "      <th>Beat</th>\n",
       "      <th>District</th>\n",
       "      <th>Ward</th>\n",
       "      <th>Latitude</th>\n",
       "      <th>Longitude</th>\n",
       "    </tr>\n",
       "  </thead>\n",
       "  <tbody>\n",
       "    <tr>\n",
       "      <th>0</th>\n",
       "      <td>1326041</td>\n",
       "      <td>2001-01-01 01:00:00</td>\n",
       "      <td>BATTERY</td>\n",
       "      <td>SIMPLE</td>\n",
       "      <td>RESIDENCE</td>\n",
       "      <td>False</td>\n",
       "      <td>False</td>\n",
       "      <td>1624</td>\n",
       "      <td>16.0</td>\n",
       "      <td>NaN</td>\n",
       "      <td>41.957850</td>\n",
       "      <td>-87.749185</td>\n",
       "    </tr>\n",
       "    <tr>\n",
       "      <th>1</th>\n",
       "      <td>1319931</td>\n",
       "      <td>2001-01-01 13:00:00</td>\n",
       "      <td>BATTERY</td>\n",
       "      <td>SIMPLE</td>\n",
       "      <td>RESIDENCE</td>\n",
       "      <td>False</td>\n",
       "      <td>True</td>\n",
       "      <td>825</td>\n",
       "      <td>8.0</td>\n",
       "      <td>NaN</td>\n",
       "      <td>41.783892</td>\n",
       "      <td>-87.684841</td>\n",
       "    </tr>\n",
       "    <tr>\n",
       "      <th>2</th>\n",
       "      <td>1324743</td>\n",
       "      <td>2001-01-01 13:00:00</td>\n",
       "      <td>GAMBLING</td>\n",
       "      <td>ILLEGAL ILL LOTTERY</td>\n",
       "      <td>STREET</td>\n",
       "      <td>True</td>\n",
       "      <td>False</td>\n",
       "      <td>313</td>\n",
       "      <td>3.0</td>\n",
       "      <td>NaN</td>\n",
       "      <td>41.780412</td>\n",
       "      <td>-87.611970</td>\n",
       "    </tr>\n",
       "    <tr>\n",
       "      <th>3</th>\n",
       "      <td>1310717</td>\n",
       "      <td>2001-01-01 01:00:00</td>\n",
       "      <td>CRIMINAL DAMAGE</td>\n",
       "      <td>TO VEHICLE</td>\n",
       "      <td>STREET</td>\n",
       "      <td>False</td>\n",
       "      <td>False</td>\n",
       "      <td>2424</td>\n",
       "      <td>24.0</td>\n",
       "      <td>NaN</td>\n",
       "      <td>42.012391</td>\n",
       "      <td>-87.678032</td>\n",
       "    </tr>\n",
       "    <tr>\n",
       "      <th>4</th>\n",
       "      <td>1318099</td>\n",
       "      <td>2001-01-01 01:00:00</td>\n",
       "      <td>BATTERY</td>\n",
       "      <td>SIMPLE</td>\n",
       "      <td>RESIDENCE PORCH/HALLWAY</td>\n",
       "      <td>False</td>\n",
       "      <td>True</td>\n",
       "      <td>214</td>\n",
       "      <td>2.0</td>\n",
       "      <td>NaN</td>\n",
       "      <td>41.819538</td>\n",
       "      <td>-87.620020</td>\n",
       "    </tr>\n",
       "  </tbody>\n",
       "</table>\n",
       "</div>"
      ],
      "text/plain": [
       "        ID                Date     Primary Type          Description  \\\n",
       "0  1326041 2001-01-01 01:00:00          BATTERY               SIMPLE   \n",
       "1  1319931 2001-01-01 13:00:00          BATTERY               SIMPLE   \n",
       "2  1324743 2001-01-01 13:00:00         GAMBLING  ILLEGAL ILL LOTTERY   \n",
       "3  1310717 2001-01-01 01:00:00  CRIMINAL DAMAGE           TO VEHICLE   \n",
       "4  1318099 2001-01-01 01:00:00          BATTERY               SIMPLE   \n",
       "\n",
       "      Location Description  Arrest  Domestic  Beat  District  Ward   Latitude  \\\n",
       "0                RESIDENCE   False     False  1624      16.0   NaN  41.957850   \n",
       "1                RESIDENCE   False      True   825       8.0   NaN  41.783892   \n",
       "2                   STREET    True     False   313       3.0   NaN  41.780412   \n",
       "3                   STREET   False     False  2424      24.0   NaN  42.012391   \n",
       "4  RESIDENCE PORCH/HALLWAY   False      True   214       2.0   NaN  41.819538   \n",
       "\n",
       "   Longitude  \n",
       "0 -87.749185  \n",
       "1 -87.684841  \n",
       "2 -87.611970  \n",
       "3 -87.678032  \n",
       "4 -87.620020  "
      ]
     },
     "execution_count": 12,
     "metadata": {},
     "output_type": "execute_result"
    }
   ],
   "source": [
    "# Display the first few rows of the resulting DataFrame\n",
    "df.head()"
   ]
  },
  {
   "cell_type": "code",
   "execution_count": 13,
   "id": "587df811",
   "metadata": {},
   "outputs": [
    {
     "data": {
      "text/html": [
       "<div>\n",
       "<style scoped>\n",
       "    .dataframe tbody tr th:only-of-type {\n",
       "        vertical-align: middle;\n",
       "    }\n",
       "\n",
       "    .dataframe tbody tr th {\n",
       "        vertical-align: top;\n",
       "    }\n",
       "\n",
       "    .dataframe thead th {\n",
       "        text-align: right;\n",
       "    }\n",
       "</style>\n",
       "<table border=\"1\" class=\"dataframe\">\n",
       "  <thead>\n",
       "    <tr style=\"text-align: right;\">\n",
       "      <th></th>\n",
       "      <th>ID</th>\n",
       "      <th>Date</th>\n",
       "      <th>Primary Type</th>\n",
       "      <th>Description</th>\n",
       "      <th>Location Description</th>\n",
       "      <th>Arrest</th>\n",
       "      <th>Domestic</th>\n",
       "      <th>Beat</th>\n",
       "      <th>District</th>\n",
       "      <th>Ward</th>\n",
       "      <th>Latitude</th>\n",
       "      <th>Longitude</th>\n",
       "      <th>Datetime</th>\n",
       "    </tr>\n",
       "  </thead>\n",
       "  <tbody>\n",
       "    <tr>\n",
       "      <th>1541</th>\n",
       "      <td>3214584</td>\n",
       "      <td>2001-01-01 00:00:00</td>\n",
       "      <td>THEFT</td>\n",
       "      <td>FINANCIAL ID THEFT: OVER $300</td>\n",
       "      <td>STREET</td>\n",
       "      <td>False</td>\n",
       "      <td>False</td>\n",
       "      <td>2221</td>\n",
       "      <td>22.0</td>\n",
       "      <td>21.0</td>\n",
       "      <td>41.732563</td>\n",
       "      <td>-87.669923</td>\n",
       "      <td>2001-01-01 00:00:00</td>\n",
       "    </tr>\n",
       "    <tr>\n",
       "      <th>1445</th>\n",
       "      <td>1927872</td>\n",
       "      <td>2001-01-01 00:00:00</td>\n",
       "      <td>THEFT</td>\n",
       "      <td>AGG: FINANCIAL ID THEFT</td>\n",
       "      <td>RESIDENCE</td>\n",
       "      <td>False</td>\n",
       "      <td>False</td>\n",
       "      <td>812</td>\n",
       "      <td>8.0</td>\n",
       "      <td>NaN</td>\n",
       "      <td>41.778094</td>\n",
       "      <td>-87.770137</td>\n",
       "      <td>2001-01-01 00:00:00</td>\n",
       "    </tr>\n",
       "    <tr>\n",
       "      <th>1446</th>\n",
       "      <td>4768442</td>\n",
       "      <td>2001-01-01 00:00:00</td>\n",
       "      <td>OFFENSE INVOLVING CHILDREN</td>\n",
       "      <td>SEX ASSLT OF CHILD BY FAM MBR</td>\n",
       "      <td>RESIDENCE</td>\n",
       "      <td>False</td>\n",
       "      <td>False</td>\n",
       "      <td>2124</td>\n",
       "      <td>2.0</td>\n",
       "      <td>4.0</td>\n",
       "      <td>41.807275</td>\n",
       "      <td>-87.593707</td>\n",
       "      <td>2001-01-01 00:00:00</td>\n",
       "    </tr>\n",
       "    <tr>\n",
       "      <th>1447</th>\n",
       "      <td>2280620</td>\n",
       "      <td>2001-01-01 00:00:00</td>\n",
       "      <td>THEFT</td>\n",
       "      <td>FINANCIAL ID THEFT: OVER $300</td>\n",
       "      <td>RESIDENCE</td>\n",
       "      <td>False</td>\n",
       "      <td>False</td>\n",
       "      <td>915</td>\n",
       "      <td>9.0</td>\n",
       "      <td>20.0</td>\n",
       "      <td>41.806311</td>\n",
       "      <td>-87.674782</td>\n",
       "      <td>2001-01-01 00:00:00</td>\n",
       "    </tr>\n",
       "    <tr>\n",
       "      <th>1448</th>\n",
       "      <td>9755214</td>\n",
       "      <td>2001-01-01 00:00:00</td>\n",
       "      <td>SEX OFFENSE</td>\n",
       "      <td>AGG CRIMINAL SEXUAL ABUSE</td>\n",
       "      <td>CHURCH/SYNAGOGUE/PLACE OF WORSHIP</td>\n",
       "      <td>False</td>\n",
       "      <td>False</td>\n",
       "      <td>1022</td>\n",
       "      <td>10.0</td>\n",
       "      <td>24.0</td>\n",
       "      <td>NaN</td>\n",
       "      <td>NaN</td>\n",
       "      <td>2001-01-01 00:00:00</td>\n",
       "    </tr>\n",
       "    <tr>\n",
       "      <th>...</th>\n",
       "      <td>...</td>\n",
       "      <td>...</td>\n",
       "      <td>...</td>\n",
       "      <td>...</td>\n",
       "      <td>...</td>\n",
       "      <td>...</td>\n",
       "      <td>...</td>\n",
       "      <td>...</td>\n",
       "      <td>...</td>\n",
       "      <td>...</td>\n",
       "      <td>...</td>\n",
       "      <td>...</td>\n",
       "      <td>...</td>\n",
       "    </tr>\n",
       "    <tr>\n",
       "      <th>7713004</th>\n",
       "      <td>12938351</td>\n",
       "      <td>2022-12-31 23:47:00</td>\n",
       "      <td>ASSAULT</td>\n",
       "      <td>SIMPLE</td>\n",
       "      <td>STREET</td>\n",
       "      <td>True</td>\n",
       "      <td>False</td>\n",
       "      <td>2221</td>\n",
       "      <td>22.0</td>\n",
       "      <td>21.0</td>\n",
       "      <td>41.727812</td>\n",
       "      <td>-87.660399</td>\n",
       "      <td>2022-12-31 23:47:00</td>\n",
       "    </tr>\n",
       "    <tr>\n",
       "      <th>7713005</th>\n",
       "      <td>12938340</td>\n",
       "      <td>2022-12-31 23:47:00</td>\n",
       "      <td>WEAPONS VIOLATION</td>\n",
       "      <td>UNLAWFUL POSSESSION - HANDGUN</td>\n",
       "      <td>APARTMENT</td>\n",
       "      <td>True</td>\n",
       "      <td>False</td>\n",
       "      <td>2221</td>\n",
       "      <td>22.0</td>\n",
       "      <td>21.0</td>\n",
       "      <td>41.727812</td>\n",
       "      <td>-87.660399</td>\n",
       "      <td>2022-12-31 23:47:00</td>\n",
       "    </tr>\n",
       "    <tr>\n",
       "      <th>7713006</th>\n",
       "      <td>12938426</td>\n",
       "      <td>2022-12-31 23:50:00</td>\n",
       "      <td>BATTERY</td>\n",
       "      <td>DOMESTIC BATTERY SIMPLE</td>\n",
       "      <td>APARTMENT</td>\n",
       "      <td>False</td>\n",
       "      <td>True</td>\n",
       "      <td>1523</td>\n",
       "      <td>15.0</td>\n",
       "      <td>29.0</td>\n",
       "      <td>41.882257</td>\n",
       "      <td>-87.763744</td>\n",
       "      <td>2022-12-31 23:50:00</td>\n",
       "    </tr>\n",
       "    <tr>\n",
       "      <th>7713007</th>\n",
       "      <td>12938337</td>\n",
       "      <td>2022-12-31 23:50:00</td>\n",
       "      <td>MOTOR VEHICLE THEFT</td>\n",
       "      <td>AUTOMOBILE</td>\n",
       "      <td>ALLEY</td>\n",
       "      <td>False</td>\n",
       "      <td>False</td>\n",
       "      <td>2431</td>\n",
       "      <td>24.0</td>\n",
       "      <td>49.0</td>\n",
       "      <td>42.009108</td>\n",
       "      <td>-87.666844</td>\n",
       "      <td>2022-12-31 23:50:00</td>\n",
       "    </tr>\n",
       "    <tr>\n",
       "      <th>7713008</th>\n",
       "      <td>13024128</td>\n",
       "      <td>2022-12-31 23:55:00</td>\n",
       "      <td>WEAPONS VIOLATION</td>\n",
       "      <td>RECKLESS FIREARM DISCHARGE</td>\n",
       "      <td>RESIDENCE - YARD (FRONT / BACK)</td>\n",
       "      <td>False</td>\n",
       "      <td>False</td>\n",
       "      <td>1522</td>\n",
       "      <td>15.0</td>\n",
       "      <td>29.0</td>\n",
       "      <td>NaN</td>\n",
       "      <td>NaN</td>\n",
       "      <td>2022-12-31 23:55:00</td>\n",
       "    </tr>\n",
       "  </tbody>\n",
       "</table>\n",
       "<p>7713109 rows × 13 columns</p>\n",
       "</div>"
      ],
      "text/plain": [
       "               ID                Date                Primary Type  \\\n",
       "1541      3214584 2001-01-01 00:00:00                       THEFT   \n",
       "1445      1927872 2001-01-01 00:00:00                       THEFT   \n",
       "1446      4768442 2001-01-01 00:00:00  OFFENSE INVOLVING CHILDREN   \n",
       "1447      2280620 2001-01-01 00:00:00                       THEFT   \n",
       "1448      9755214 2001-01-01 00:00:00                 SEX OFFENSE   \n",
       "...           ...                 ...                         ...   \n",
       "7713004  12938351 2022-12-31 23:47:00                     ASSAULT   \n",
       "7713005  12938340 2022-12-31 23:47:00           WEAPONS VIOLATION   \n",
       "7713006  12938426 2022-12-31 23:50:00                     BATTERY   \n",
       "7713007  12938337 2022-12-31 23:50:00         MOTOR VEHICLE THEFT   \n",
       "7713008  13024128 2022-12-31 23:55:00           WEAPONS VIOLATION   \n",
       "\n",
       "                           Description               Location Description  \\\n",
       "1541     FINANCIAL ID THEFT: OVER $300                             STREET   \n",
       "1445           AGG: FINANCIAL ID THEFT                          RESIDENCE   \n",
       "1446     SEX ASSLT OF CHILD BY FAM MBR                          RESIDENCE   \n",
       "1447     FINANCIAL ID THEFT: OVER $300                          RESIDENCE   \n",
       "1448         AGG CRIMINAL SEXUAL ABUSE  CHURCH/SYNAGOGUE/PLACE OF WORSHIP   \n",
       "...                                ...                                ...   \n",
       "7713004                         SIMPLE                             STREET   \n",
       "7713005  UNLAWFUL POSSESSION - HANDGUN                          APARTMENT   \n",
       "7713006        DOMESTIC BATTERY SIMPLE                          APARTMENT   \n",
       "7713007                     AUTOMOBILE                              ALLEY   \n",
       "7713008     RECKLESS FIREARM DISCHARGE    RESIDENCE - YARD (FRONT / BACK)   \n",
       "\n",
       "         Arrest  Domestic  Beat  District  Ward   Latitude  Longitude  \\\n",
       "1541      False     False  2221      22.0  21.0  41.732563 -87.669923   \n",
       "1445      False     False   812       8.0   NaN  41.778094 -87.770137   \n",
       "1446      False     False  2124       2.0   4.0  41.807275 -87.593707   \n",
       "1447      False     False   915       9.0  20.0  41.806311 -87.674782   \n",
       "1448      False     False  1022      10.0  24.0        NaN        NaN   \n",
       "...         ...       ...   ...       ...   ...        ...        ...   \n",
       "7713004    True     False  2221      22.0  21.0  41.727812 -87.660399   \n",
       "7713005    True     False  2221      22.0  21.0  41.727812 -87.660399   \n",
       "7713006   False      True  1523      15.0  29.0  41.882257 -87.763744   \n",
       "7713007   False     False  2431      24.0  49.0  42.009108 -87.666844   \n",
       "7713008   False     False  1522      15.0  29.0        NaN        NaN   \n",
       "\n",
       "                   Datetime  \n",
       "1541    2001-01-01 00:00:00  \n",
       "1445    2001-01-01 00:00:00  \n",
       "1446    2001-01-01 00:00:00  \n",
       "1447    2001-01-01 00:00:00  \n",
       "1448    2001-01-01 00:00:00  \n",
       "...                     ...  \n",
       "7713004 2022-12-31 23:47:00  \n",
       "7713005 2022-12-31 23:47:00  \n",
       "7713006 2022-12-31 23:50:00  \n",
       "7713007 2022-12-31 23:50:00  \n",
       "7713008 2022-12-31 23:55:00  \n",
       "\n",
       "[7713109 rows x 13 columns]"
      ]
     },
     "execution_count": 13,
     "metadata": {},
     "output_type": "execute_result"
    }
   ],
   "source": [
    "date_format = \"%m/%d/%Y %H:%M:%S %p\"\n",
    "\n",
    "df['Datetime'] = pd.to_datetime(df['Date'], format=date_format)\n",
    "df = df.sort_values('Datetime')\n",
    "df"
   ]
  },
  {
   "cell_type": "code",
   "execution_count": 14,
   "id": "8a297dfb",
   "metadata": {},
   "outputs": [
    {
     "data": {
      "text/html": [
       "<div>\n",
       "<style scoped>\n",
       "    .dataframe tbody tr th:only-of-type {\n",
       "        vertical-align: middle;\n",
       "    }\n",
       "\n",
       "    .dataframe tbody tr th {\n",
       "        vertical-align: top;\n",
       "    }\n",
       "\n",
       "    .dataframe thead th {\n",
       "        text-align: right;\n",
       "    }\n",
       "</style>\n",
       "<table border=\"1\" class=\"dataframe\">\n",
       "  <thead>\n",
       "    <tr style=\"text-align: right;\">\n",
       "      <th></th>\n",
       "      <th>ID</th>\n",
       "      <th>Primary Type</th>\n",
       "      <th>Description</th>\n",
       "      <th>Location Description</th>\n",
       "      <th>Arrest</th>\n",
       "      <th>Domestic</th>\n",
       "      <th>Beat</th>\n",
       "      <th>District</th>\n",
       "      <th>Ward</th>\n",
       "      <th>Latitude</th>\n",
       "      <th>Longitude</th>\n",
       "      <th>Datetime</th>\n",
       "    </tr>\n",
       "    <tr>\n",
       "      <th>Date</th>\n",
       "      <th></th>\n",
       "      <th></th>\n",
       "      <th></th>\n",
       "      <th></th>\n",
       "      <th></th>\n",
       "      <th></th>\n",
       "      <th></th>\n",
       "      <th></th>\n",
       "      <th></th>\n",
       "      <th></th>\n",
       "      <th></th>\n",
       "      <th></th>\n",
       "    </tr>\n",
       "  </thead>\n",
       "  <tbody>\n",
       "    <tr>\n",
       "      <th>2001-01-01 00:00:00</th>\n",
       "      <td>3214584</td>\n",
       "      <td>THEFT</td>\n",
       "      <td>FINANCIAL ID THEFT: OVER $300</td>\n",
       "      <td>STREET</td>\n",
       "      <td>False</td>\n",
       "      <td>False</td>\n",
       "      <td>2221</td>\n",
       "      <td>22.0</td>\n",
       "      <td>21.0</td>\n",
       "      <td>41.732563</td>\n",
       "      <td>-87.669923</td>\n",
       "      <td>2001-01-01 00:00:00</td>\n",
       "    </tr>\n",
       "    <tr>\n",
       "      <th>2001-01-01 00:00:00</th>\n",
       "      <td>1927872</td>\n",
       "      <td>THEFT</td>\n",
       "      <td>AGG: FINANCIAL ID THEFT</td>\n",
       "      <td>RESIDENCE</td>\n",
       "      <td>False</td>\n",
       "      <td>False</td>\n",
       "      <td>812</td>\n",
       "      <td>8.0</td>\n",
       "      <td>NaN</td>\n",
       "      <td>41.778094</td>\n",
       "      <td>-87.770137</td>\n",
       "      <td>2001-01-01 00:00:00</td>\n",
       "    </tr>\n",
       "    <tr>\n",
       "      <th>2001-01-01 00:00:00</th>\n",
       "      <td>4768442</td>\n",
       "      <td>OFFENSE INVOLVING CHILDREN</td>\n",
       "      <td>SEX ASSLT OF CHILD BY FAM MBR</td>\n",
       "      <td>RESIDENCE</td>\n",
       "      <td>False</td>\n",
       "      <td>False</td>\n",
       "      <td>2124</td>\n",
       "      <td>2.0</td>\n",
       "      <td>4.0</td>\n",
       "      <td>41.807275</td>\n",
       "      <td>-87.593707</td>\n",
       "      <td>2001-01-01 00:00:00</td>\n",
       "    </tr>\n",
       "    <tr>\n",
       "      <th>2001-01-01 00:00:00</th>\n",
       "      <td>2280620</td>\n",
       "      <td>THEFT</td>\n",
       "      <td>FINANCIAL ID THEFT: OVER $300</td>\n",
       "      <td>RESIDENCE</td>\n",
       "      <td>False</td>\n",
       "      <td>False</td>\n",
       "      <td>915</td>\n",
       "      <td>9.0</td>\n",
       "      <td>20.0</td>\n",
       "      <td>41.806311</td>\n",
       "      <td>-87.674782</td>\n",
       "      <td>2001-01-01 00:00:00</td>\n",
       "    </tr>\n",
       "    <tr>\n",
       "      <th>2001-01-01 00:00:00</th>\n",
       "      <td>9755214</td>\n",
       "      <td>SEX OFFENSE</td>\n",
       "      <td>AGG CRIMINAL SEXUAL ABUSE</td>\n",
       "      <td>CHURCH/SYNAGOGUE/PLACE OF WORSHIP</td>\n",
       "      <td>False</td>\n",
       "      <td>False</td>\n",
       "      <td>1022</td>\n",
       "      <td>10.0</td>\n",
       "      <td>24.0</td>\n",
       "      <td>NaN</td>\n",
       "      <td>NaN</td>\n",
       "      <td>2001-01-01 00:00:00</td>\n",
       "    </tr>\n",
       "    <tr>\n",
       "      <th>...</th>\n",
       "      <td>...</td>\n",
       "      <td>...</td>\n",
       "      <td>...</td>\n",
       "      <td>...</td>\n",
       "      <td>...</td>\n",
       "      <td>...</td>\n",
       "      <td>...</td>\n",
       "      <td>...</td>\n",
       "      <td>...</td>\n",
       "      <td>...</td>\n",
       "      <td>...</td>\n",
       "      <td>...</td>\n",
       "    </tr>\n",
       "    <tr>\n",
       "      <th>2022-12-31 23:47:00</th>\n",
       "      <td>12938351</td>\n",
       "      <td>ASSAULT</td>\n",
       "      <td>SIMPLE</td>\n",
       "      <td>STREET</td>\n",
       "      <td>True</td>\n",
       "      <td>False</td>\n",
       "      <td>2221</td>\n",
       "      <td>22.0</td>\n",
       "      <td>21.0</td>\n",
       "      <td>41.727812</td>\n",
       "      <td>-87.660399</td>\n",
       "      <td>2022-12-31 23:47:00</td>\n",
       "    </tr>\n",
       "    <tr>\n",
       "      <th>2022-12-31 23:47:00</th>\n",
       "      <td>12938340</td>\n",
       "      <td>WEAPONS VIOLATION</td>\n",
       "      <td>UNLAWFUL POSSESSION - HANDGUN</td>\n",
       "      <td>APARTMENT</td>\n",
       "      <td>True</td>\n",
       "      <td>False</td>\n",
       "      <td>2221</td>\n",
       "      <td>22.0</td>\n",
       "      <td>21.0</td>\n",
       "      <td>41.727812</td>\n",
       "      <td>-87.660399</td>\n",
       "      <td>2022-12-31 23:47:00</td>\n",
       "    </tr>\n",
       "    <tr>\n",
       "      <th>2022-12-31 23:50:00</th>\n",
       "      <td>12938426</td>\n",
       "      <td>BATTERY</td>\n",
       "      <td>DOMESTIC BATTERY SIMPLE</td>\n",
       "      <td>APARTMENT</td>\n",
       "      <td>False</td>\n",
       "      <td>True</td>\n",
       "      <td>1523</td>\n",
       "      <td>15.0</td>\n",
       "      <td>29.0</td>\n",
       "      <td>41.882257</td>\n",
       "      <td>-87.763744</td>\n",
       "      <td>2022-12-31 23:50:00</td>\n",
       "    </tr>\n",
       "    <tr>\n",
       "      <th>2022-12-31 23:50:00</th>\n",
       "      <td>12938337</td>\n",
       "      <td>MOTOR VEHICLE THEFT</td>\n",
       "      <td>AUTOMOBILE</td>\n",
       "      <td>ALLEY</td>\n",
       "      <td>False</td>\n",
       "      <td>False</td>\n",
       "      <td>2431</td>\n",
       "      <td>24.0</td>\n",
       "      <td>49.0</td>\n",
       "      <td>42.009108</td>\n",
       "      <td>-87.666844</td>\n",
       "      <td>2022-12-31 23:50:00</td>\n",
       "    </tr>\n",
       "    <tr>\n",
       "      <th>2022-12-31 23:55:00</th>\n",
       "      <td>13024128</td>\n",
       "      <td>WEAPONS VIOLATION</td>\n",
       "      <td>RECKLESS FIREARM DISCHARGE</td>\n",
       "      <td>RESIDENCE - YARD (FRONT / BACK)</td>\n",
       "      <td>False</td>\n",
       "      <td>False</td>\n",
       "      <td>1522</td>\n",
       "      <td>15.0</td>\n",
       "      <td>29.0</td>\n",
       "      <td>NaN</td>\n",
       "      <td>NaN</td>\n",
       "      <td>2022-12-31 23:55:00</td>\n",
       "    </tr>\n",
       "  </tbody>\n",
       "</table>\n",
       "<p>7713109 rows × 12 columns</p>\n",
       "</div>"
      ],
      "text/plain": [
       "                           ID                Primary Type  \\\n",
       "Date                                                        \n",
       "2001-01-01 00:00:00   3214584                       THEFT   \n",
       "2001-01-01 00:00:00   1927872                       THEFT   \n",
       "2001-01-01 00:00:00   4768442  OFFENSE INVOLVING CHILDREN   \n",
       "2001-01-01 00:00:00   2280620                       THEFT   \n",
       "2001-01-01 00:00:00   9755214                 SEX OFFENSE   \n",
       "...                       ...                         ...   \n",
       "2022-12-31 23:47:00  12938351                     ASSAULT   \n",
       "2022-12-31 23:47:00  12938340           WEAPONS VIOLATION   \n",
       "2022-12-31 23:50:00  12938426                     BATTERY   \n",
       "2022-12-31 23:50:00  12938337         MOTOR VEHICLE THEFT   \n",
       "2022-12-31 23:55:00  13024128           WEAPONS VIOLATION   \n",
       "\n",
       "                                       Description  \\\n",
       "Date                                                 \n",
       "2001-01-01 00:00:00  FINANCIAL ID THEFT: OVER $300   \n",
       "2001-01-01 00:00:00        AGG: FINANCIAL ID THEFT   \n",
       "2001-01-01 00:00:00  SEX ASSLT OF CHILD BY FAM MBR   \n",
       "2001-01-01 00:00:00  FINANCIAL ID THEFT: OVER $300   \n",
       "2001-01-01 00:00:00      AGG CRIMINAL SEXUAL ABUSE   \n",
       "...                                            ...   \n",
       "2022-12-31 23:47:00                         SIMPLE   \n",
       "2022-12-31 23:47:00  UNLAWFUL POSSESSION - HANDGUN   \n",
       "2022-12-31 23:50:00        DOMESTIC BATTERY SIMPLE   \n",
       "2022-12-31 23:50:00                     AUTOMOBILE   \n",
       "2022-12-31 23:55:00     RECKLESS FIREARM DISCHARGE   \n",
       "\n",
       "                                  Location Description  Arrest  Domestic  \\\n",
       "Date                                                                       \n",
       "2001-01-01 00:00:00                             STREET   False     False   \n",
       "2001-01-01 00:00:00                          RESIDENCE   False     False   \n",
       "2001-01-01 00:00:00                          RESIDENCE   False     False   \n",
       "2001-01-01 00:00:00                          RESIDENCE   False     False   \n",
       "2001-01-01 00:00:00  CHURCH/SYNAGOGUE/PLACE OF WORSHIP   False     False   \n",
       "...                                                ...     ...       ...   \n",
       "2022-12-31 23:47:00                             STREET    True     False   \n",
       "2022-12-31 23:47:00                          APARTMENT    True     False   \n",
       "2022-12-31 23:50:00                          APARTMENT   False      True   \n",
       "2022-12-31 23:50:00                              ALLEY   False     False   \n",
       "2022-12-31 23:55:00    RESIDENCE - YARD (FRONT / BACK)   False     False   \n",
       "\n",
       "                     Beat  District  Ward   Latitude  Longitude  \\\n",
       "Date                                                              \n",
       "2001-01-01 00:00:00  2221      22.0  21.0  41.732563 -87.669923   \n",
       "2001-01-01 00:00:00   812       8.0   NaN  41.778094 -87.770137   \n",
       "2001-01-01 00:00:00  2124       2.0   4.0  41.807275 -87.593707   \n",
       "2001-01-01 00:00:00   915       9.0  20.0  41.806311 -87.674782   \n",
       "2001-01-01 00:00:00  1022      10.0  24.0        NaN        NaN   \n",
       "...                   ...       ...   ...        ...        ...   \n",
       "2022-12-31 23:47:00  2221      22.0  21.0  41.727812 -87.660399   \n",
       "2022-12-31 23:47:00  2221      22.0  21.0  41.727812 -87.660399   \n",
       "2022-12-31 23:50:00  1523      15.0  29.0  41.882257 -87.763744   \n",
       "2022-12-31 23:50:00  2431      24.0  49.0  42.009108 -87.666844   \n",
       "2022-12-31 23:55:00  1522      15.0  29.0        NaN        NaN   \n",
       "\n",
       "                               Datetime  \n",
       "Date                                     \n",
       "2001-01-01 00:00:00 2001-01-01 00:00:00  \n",
       "2001-01-01 00:00:00 2001-01-01 00:00:00  \n",
       "2001-01-01 00:00:00 2001-01-01 00:00:00  \n",
       "2001-01-01 00:00:00 2001-01-01 00:00:00  \n",
       "2001-01-01 00:00:00 2001-01-01 00:00:00  \n",
       "...                                 ...  \n",
       "2022-12-31 23:47:00 2022-12-31 23:47:00  \n",
       "2022-12-31 23:47:00 2022-12-31 23:47:00  \n",
       "2022-12-31 23:50:00 2022-12-31 23:50:00  \n",
       "2022-12-31 23:50:00 2022-12-31 23:50:00  \n",
       "2022-12-31 23:55:00 2022-12-31 23:55:00  \n",
       "\n",
       "[7713109 rows x 12 columns]"
      ]
     },
     "execution_count": 14,
     "metadata": {},
     "output_type": "execute_result"
    }
   ],
   "source": [
    "#Form 1: Original individual crime data with a datetime index\n",
    "df_individual = df.set_index('Date')\n",
    "\n",
    "df_individual"
   ]
  },
  {
   "cell_type": "code",
   "execution_count": 15,
   "id": "e3de0858",
   "metadata": {},
   "outputs": [],
   "source": [
    "# Save this DataFrame to a CSV file\n",
    "df_individual.to_csv('individual_crime_data.csv')"
   ]
  },
  {
   "cell_type": "code",
   "execution_count": 16,
   "id": "e41b0952",
   "metadata": {},
   "outputs": [
    {
     "data": {
      "text/html": [
       "<div>\n",
       "<style scoped>\n",
       "    .dataframe tbody tr th:only-of-type {\n",
       "        vertical-align: middle;\n",
       "    }\n",
       "\n",
       "    .dataframe tbody tr th {\n",
       "        vertical-align: top;\n",
       "    }\n",
       "\n",
       "    .dataframe thead th {\n",
       "        text-align: right;\n",
       "    }\n",
       "</style>\n",
       "<table border=\"1\" class=\"dataframe\">\n",
       "  <thead>\n",
       "    <tr style=\"text-align: right;\">\n",
       "      <th></th>\n",
       "      <th>Date</th>\n",
       "      <th>Crime_Counts</th>\n",
       "    </tr>\n",
       "  </thead>\n",
       "  <tbody>\n",
       "    <tr>\n",
       "      <th>0</th>\n",
       "      <td>2001-01-01</td>\n",
       "      <td>1825</td>\n",
       "    </tr>\n",
       "    <tr>\n",
       "      <th>1</th>\n",
       "      <td>2001-01-02</td>\n",
       "      <td>1143</td>\n",
       "    </tr>\n",
       "    <tr>\n",
       "      <th>2</th>\n",
       "      <td>2001-01-03</td>\n",
       "      <td>1151</td>\n",
       "    </tr>\n",
       "    <tr>\n",
       "      <th>3</th>\n",
       "      <td>2001-01-04</td>\n",
       "      <td>1166</td>\n",
       "    </tr>\n",
       "    <tr>\n",
       "      <th>4</th>\n",
       "      <td>2001-01-05</td>\n",
       "      <td>1267</td>\n",
       "    </tr>\n",
       "    <tr>\n",
       "      <th>...</th>\n",
       "      <td>...</td>\n",
       "      <td>...</td>\n",
       "    </tr>\n",
       "    <tr>\n",
       "      <th>8030</th>\n",
       "      <td>2022-12-27</td>\n",
       "      <td>583</td>\n",
       "    </tr>\n",
       "    <tr>\n",
       "      <th>8031</th>\n",
       "      <td>2022-12-28</td>\n",
       "      <td>618</td>\n",
       "    </tr>\n",
       "    <tr>\n",
       "      <th>8032</th>\n",
       "      <td>2022-12-29</td>\n",
       "      <td>648</td>\n",
       "    </tr>\n",
       "    <tr>\n",
       "      <th>8033</th>\n",
       "      <td>2022-12-30</td>\n",
       "      <td>674</td>\n",
       "    </tr>\n",
       "    <tr>\n",
       "      <th>8034</th>\n",
       "      <td>2022-12-31</td>\n",
       "      <td>726</td>\n",
       "    </tr>\n",
       "  </tbody>\n",
       "</table>\n",
       "<p>8035 rows × 2 columns</p>\n",
       "</div>"
      ],
      "text/plain": [
       "           Date  Crime_Counts\n",
       "0    2001-01-01          1825\n",
       "1    2001-01-02          1143\n",
       "2    2001-01-03          1151\n",
       "3    2001-01-04          1166\n",
       "4    2001-01-05          1267\n",
       "...         ...           ...\n",
       "8030 2022-12-27           583\n",
       "8031 2022-12-28           618\n",
       "8032 2022-12-29           648\n",
       "8033 2022-12-30           674\n",
       "8034 2022-12-31           726\n",
       "\n",
       "[8035 rows x 2 columns]"
      ]
     },
     "execution_count": 16,
     "metadata": {},
     "output_type": "execute_result"
    }
   ],
   "source": [
    "# Form 2: Resampled/converted crime counts version (Each row is 1 day)\n",
    "\n",
    "df_counts = df.resample('D', on='Date').size().reset_index(name='Crime_Counts')\n",
    "df_counts"
   ]
  },
  {
   "cell_type": "code",
   "execution_count": 17,
   "id": "6faa9763",
   "metadata": {},
   "outputs": [],
   "source": [
    "# Save this DataFrame to a CSV file\n",
    "df_counts.to_csv('resampled_crime_counts.csv')"
   ]
  },
  {
   "cell_type": "markdown",
   "id": "653d3506",
   "metadata": {},
   "source": [
    "### Topic 1: Comparing Police Districts"
   ]
  },
  {
   "cell_type": "code",
   "execution_count": 19,
   "id": "ba186e5d",
   "metadata": {},
   "outputs": [],
   "source": [
    "# Ensure that the 'Date' column is in datetime format\n",
    "df['Date'] = pd.to_datetime(df['Date'])"
   ]
  },
  {
   "cell_type": "code",
   "execution_count": 20,
   "id": "0086c9dc",
   "metadata": {},
   "outputs": [],
   "source": [
    "# Filter data for the year 2022\n",
    "df_2022 = df[df['Date'].dt.year == 2022]"
   ]
  },
  {
   "cell_type": "code",
   "execution_count": 21,
   "id": "86793ec3",
   "metadata": {},
   "outputs": [],
   "source": [
    "# Which district had the most crimes in 2022?\n",
    "most_crimes_district = df_2022['District'].value_counts().idxmax()"
   ]
  },
  {
   "cell_type": "code",
   "execution_count": 22,
   "id": "0a3d112c",
   "metadata": {},
   "outputs": [
    {
     "name": "stdout",
     "output_type": "stream",
     "text": [
      "District with the most crimes in 2022: 8.0\n",
      "District with the least crimes in 2022: 31.0\n"
     ]
    }
   ],
   "source": [
    "# Which had the least?\n",
    "least_crimes_district = df_2022['District'].value_counts().idxmin()\n",
    "\n",
    "print(f\"District with the most crimes in 2022: {most_crimes_district}\")\n",
    "print(f\"District with the least crimes in 2022: {least_crimes_district}\")"
   ]
  },
  {
   "cell_type": "markdown",
   "id": "8502321c",
   "metadata": {},
   "source": [
    "### Topic 2) Crimes Across the Years:"
   ]
  },
  {
   "cell_type": "code",
   "execution_count": 23,
   "id": "8cfb017f",
   "metadata": {},
   "outputs": [],
   "source": [
    "# Is the total number of crimes increasing or decreasing across the years?\n",
    "total_crimes_by_year = df.resample('Y', on='Date').size()"
   ]
  },
  {
   "cell_type": "code",
   "execution_count": 24,
   "id": "272682a3",
   "metadata": {},
   "outputs": [
    {
     "data": {
      "image/png": "[encoded data removed]",
      "text/plain": [
       "<Figure size 1000x600 with 1 Axes>"
      ]
     },
     "metadata": {},
     "output_type": "display_data"
    }
   ],
   "source": [
    "# Plotting the total crimes by year\n",
    "import matplotlib.pyplot as plt\n",
    "\n",
    "plt.figure(figsize=(10, 6))\n",
    "total_crimes_by_year.plot(marker='o')\n",
    "plt.title('Total Crimes Across the Years')\n",
    "plt.xlabel('Year')\n",
    "plt.ylabel('Total Crimes')\n",
    "plt.show()"
   ]
  },
  {
   "cell_type": "code",
   "execution_count": 28,
   "id": "d9734d5a",
   "metadata": {},
   "outputs": [],
   "source": [
    "# Set 'Date' column as the index\n",
    "df.set_index('Date', inplace=True)"
   ]
  },
  {
   "cell_type": "code",
   "execution_count": 29,
   "id": "e176ec85",
   "metadata": {},
   "outputs": [],
   "source": [
    "# Are there any individual crimes that are doing the opposite?\n",
    "individual_crimes = df.groupby([df.index.year, 'Primary Type']).size().unstack(fill_value=0)"
   ]
  },
  {
   "cell_type": "code",
   "execution_count": 30,
   "id": "689a14db",
   "metadata": {},
   "outputs": [
    {
     "data": {
      "image/png": "[encoded data removed]",
      "text/plain": [
       "<Figure size 1000x600 with 1 Axes>"
      ]
     },
     "metadata": {},
     "output_type": "display_data"
    }
   ],
   "source": [
    "# Plotting a few individual crimes for illustration\n",
    "crimes_of_interest = ['THEFT', 'BATTERY', 'BURGLARY']\n",
    "individual_crimes[crimes_of_interest].plot(marker='o', figsize=(10, 6))\n",
    "plt.title('Individual Crimes Across the Years')\n",
    "plt.xlabel('Year')\n",
    "plt.ylabel('Number of Crimes')\n",
    "plt.legend(title='Crime Type')\n",
    "plt.show()"
   ]
  },
  {
   "cell_type": "markdown",
   "id": "b6af4393",
   "metadata": {},
   "source": [
    "- the total number of crimes decreasing across the years\n",
    "- Are there any individual crimes that are doing the opposite (e.g., decreasing when overall crime is increasing or vice-versa)?: no"
   ]
  },
  {
   "cell_type": "markdown",
   "id": "27e5406b",
   "metadata": {},
   "source": [
    "### Topic 3: Comparing AM vs. PM Rush Hour"
   ]
  },
  {
   "cell_type": "code",
   "execution_count": 35,
   "id": "e3136fc4",
   "metadata": {},
   "outputs": [
    {
     "name": "stdout",
     "output_type": "stream",
     "text": [
      "Index(['ID', 'Primary Type', 'Description', 'Location Description', 'Arrest',\n",
      "       'Domestic', 'Beat', 'District', 'Ward', 'Latitude', 'Longitude',\n",
      "       'Datetime'],\n",
      "      dtype='object')\n"
     ]
    }
   ],
   "source": [
    "# Check the column names in your DataFrame\n",
    "print(df.columns)"
   ]
  },
  {
   "cell_type": "code",
   "execution_count": 36,
   "id": "a6fe454c",
   "metadata": {},
   "outputs": [],
   "source": [
    "# Ensure that the 'Date' index is in datetime format\n",
    "df.index = pd.to_datetime(df.index)"
   ]
  },
  {
   "cell_type": "code",
   "execution_count": 37,
   "id": "2633cf13",
   "metadata": {},
   "outputs": [],
   "source": [
    "# Create a new column for the hour of the day\n",
    "df['Hour'] = df.index.hour"
   ]
  },
  {
   "cell_type": "code",
   "execution_count": 38,
   "id": "3a4409e0",
   "metadata": {},
   "outputs": [],
   "source": [
    "# Filter data for AM and PM rush hours\n",
    "am_rush_hour = df[(df['Hour'] >= 7) & (df['Hour'] <= 10)]\n",
    "pm_rush_hour = df[(df['Hour'] >= 16) & (df['Hour'] <= 19)]"
   ]
  },
  {
   "cell_type": "code",
   "execution_count": 40,
   "id": "014fc783",
   "metadata": {},
   "outputs": [
    {
     "data": {
      "text/plain": [
       "THEFT              260759\n",
       "BATTERY            158475\n",
       "CRIMINAL DAMAGE    109089\n",
       "BURGLARY            96219\n",
       "OTHER OFFENSE       89870\n",
       "Name: Primary Type, dtype: int64"
      ]
     },
     "execution_count": 40,
     "metadata": {},
     "output_type": "execute_result"
    }
   ],
   "source": [
    "# What are the top 5 most common crimes during AM rush hour?\n",
    "top_crimes_am_rush_hour = am_rush_hour['Primary Type'].value_counts().head(5)\n",
    "top_crimes_am_rush_hour"
   ]
  },
  {
   "cell_type": "code",
   "execution_count": 41,
   "id": "c0b7e26c",
   "metadata": {},
   "outputs": [
    {
     "data": {
      "text/plain": [
       "THEFT              379122\n",
       "BATTERY            288003\n",
       "CRIMINAL DAMAGE    183423\n",
       "NARCOTICS          164754\n",
       "ASSAULT            118179\n",
       "Name: Primary Type, dtype: int64"
      ]
     },
     "execution_count": 41,
     "metadata": {},
     "output_type": "execute_result"
    }
   ],
   "source": [
    "# What are the top 5 most common crimes during PM rush hour?\n",
    "top_crimes_pm_rush_hour = pm_rush_hour['Primary Type'].value_counts().head(5)\n",
    "top_crimes_pm_rush_hour"
   ]
  },
  {
   "cell_type": "code",
   "execution_count": 43,
   "id": "f1e58cff",
   "metadata": {},
   "outputs": [
    {
     "data": {
      "text/plain": [
       "54035"
      ]
     },
     "execution_count": 43,
     "metadata": {},
     "output_type": "execute_result"
    }
   ],
   "source": [
    "# Are Motor Vehicle Thefts more common during AM or PM Rush Hour?\n",
    "motor_vehicle_thefts_am = am_rush_hour[am_rush_hour['Primary Type'] == 'MOTOR VEHICLE THEFT'].shape[0]\n",
    "motor_vehicle_thefts_am"
   ]
  },
  {
   "cell_type": "code",
   "execution_count": 44,
   "id": "251cd34e",
   "metadata": {},
   "outputs": [
    {
     "data": {
      "text/plain": [
       "74678"
      ]
     },
     "execution_count": 44,
     "metadata": {},
     "output_type": "execute_result"
    }
   ],
   "source": [
    "motor_vehicle_thefts_pm = pm_rush_hour[pm_rush_hour['Primary Type'] == 'MOTOR VEHICLE THEFT'].shape[0]\n",
    "motor_vehicle_thefts_pm"
   ]
  },
  {
   "cell_type": "code",
   "execution_count": 48,
   "id": "784b241b",
   "metadata": {
    "scrolled": true
   },
   "outputs": [
    {
     "name": "stdout",
     "output_type": "stream",
     "text": [
      "Top 5 crimes during AM rush hour:\n",
      "THEFT              260759\n",
      "BATTERY            158475\n",
      "CRIMINAL DAMAGE    109089\n",
      "BURGLARY            96219\n",
      "OTHER OFFENSE       89870\n",
      "Name: Primary Type, dtype: int64\n",
      "\n",
      "Top 5 crimes during PM rush hour:\n",
      "THEFT              379122\n",
      "BATTERY            288003\n",
      "CRIMINAL DAMAGE    183423\n",
      "NARCOTICS          164754\n",
      "ASSAULT            118179\n",
      "Name: Primary Type, dtype: int64\n",
      "\n",
      "Motor Vehicle Thefts during AM rush hour: 54035\n",
      "Motor Vehicle Thefts during PM rush hour: 74678\n",
      "Motor Vehicle Thefts are more common during PM rush hour.\n"
     ]
    }
   ],
   "source": [
    "print(f\"Top 5 crimes during AM rush hour:\\n{top_crimes_am_rush_hour}\")\n",
    "print(f\"\\nTop 5 crimes during PM rush hour:\\n{top_crimes_pm_rush_hour}\")\n",
    "print(f\"\\nMotor Vehicle Thefts during AM rush hour: {motor_vehicle_thefts_am}\")\n",
    "print(f\"Motor Vehicle Thefts during PM rush hour: {motor_vehicle_thefts_pm}\")\n",
    "\n",
    "\n",
    "# Compare and provide the answer\n",
    "if motor_vehicle_thefts_am > motor_vehicle_thefts_pm:\n",
    "    print(\"Motor Vehicle Thefts are more common during AM rush hour.\")\n",
    "elif motor_vehicle_thefts_am < motor_vehicle_thefts_pm:\n",
    "    print(\"Motor Vehicle Thefts are more common during PM rush hour.\")\n",
    "else:\n",
    "    print(\"Motor Vehicle Thefts are equally common during AM and PM rush hours.\")\n"
   ]
  },
  {
   "cell_type": "code",
   "execution_count": 62,
   "id": "e4048e6d",
   "metadata": {},
   "outputs": [],
   "source": [
    "# Create a new DataFrame for the specified hours\n",
    "data = df[(df['Hour'] >= 7) & (df['Hour'] <= 19)]"
   ]
  },
  {
   "cell_type": "code",
   "execution_count": 46,
   "id": "990e61a6",
   "metadata": {},
   "outputs": [
    {
     "data": {
      "image/png": "[encoded data removed]",
      "text/plain": [
       "<Figure size 1200x600 with 1 Axes>"
      ]
     },
     "metadata": {},
     "output_type": "display_data"
    }
   ],
   "source": [
    "# Plotting the distribution of crimes during AM and PM rush hours\n",
    "plt.figure(figsize=(12, 6))\n",
    "sns.countplot(x='Hour', data=df[(df['Hour'] >= 7) & (df['Hour'] <= 19)])\n",
    "plt.title('Distribution of Crimes During AM and PM Rush Hours')\n",
    "plt.xlabel('Hour of the Day')\n",
    "plt.ylabel('Number of Crimes')\n",
    "plt.show()"
   ]
  },
  {
   "cell_type": "markdown",
   "id": "a6e10845",
   "metadata": {},
   "source": [
    "### Topic 6) What cycles (seasonality) can you find in this data?"
   ]
  },
  {
   "cell_type": "code",
   "execution_count": 49,
   "id": "662bfefb",
   "metadata": {},
   "outputs": [],
   "source": [
    "# Resample the data to the frequency of interest (e.g., Monthly)\n",
    "df_resampled = df.resample('M').size()\n"
   ]
  },
  {
   "cell_type": "code",
   "execution_count": 56,
   "id": "15559dca",
   "metadata": {},
   "outputs": [],
   "source": [
    "# Perform seasonal decomposition\n",
    "result = seasonal_decompose(df_resampled, model='additive')"
   ]
  },
  {
   "cell_type": "code",
   "execution_count": 58,
   "id": "5d72d437",
   "metadata": {},
   "outputs": [
    {
     "data": {
      "text/plain": [
       "<Axes: xlabel='Date'>"
      ]
     },
     "execution_count": 58,
     "metadata": {},
     "output_type": "execute_result"
    },
    {
     "data": {
      "image/png": "[encoded data removed]",
      "text/plain": [
       "<Figure size 1000x500 with 1 Axes>"
      ]
     },
     "metadata": {},
     "output_type": "display_data"
    }
   ],
   "source": [
    "result.seasonal.plot()"
   ]
  },
  {
   "cell_type": "code",
   "execution_count": 59,
   "id": "7b4059cd",
   "metadata": {},
   "outputs": [
    {
     "name": "stdout",
     "output_type": "stream",
     "text": [
      "The length of the cycle: 153 days 00:00:00\n",
      "The magnitude of the cycle (difference between max and min): 8897.74404761905\n"
     ]
    }
   ],
   "source": [
    "# Get information about the decomposition\n",
    "cycle_length = result.seasonal.idxmax() - result.seasonal.idxmin()\n",
    "magnitude_cycle = result.seasonal.max() - result.seasonal.min()\n",
    "\n",
    "print(f\"The length of the cycle: {cycle_length}\")\n",
    "print(f\"The magnitude of the cycle (difference between max and min): {magnitude_cycle}\")"
   ]
  },
  {
   "cell_type": "code",
   "execution_count": null,
   "id": "df63cb51",
   "metadata": {},
   "outputs": [],
   "source": []
  }
 ],
 "metadata": {
  "kernelspec": {
   "display_name": "Python (dojo-env)",
   "language": "python",
   "name": "dojo-env"
  },
  "language_info": {
   "codemirror_mode": {
    "name": "ipython",
    "version": 3
   },
   "file_extension": ".py",
   "mimetype": "text/x-python",
   "name": "python",
   "nbconvert_exporter": "python",
   "pygments_lexer": "ipython3",
   "version": "3.11.4"
  },
  "toc": {
   "base_numbering": 1,
   "nav_menu": {},
   "number_sections": false,
   "sideBar": true,
   "skip_h1_title": false,
   "title_cell": "Table of Contents",
   "title_sidebar": "Contents",
   "toc_cell": false,
   "toc_position": {},
   "toc_section_display": true,
   "toc_window_display": false
  }
 },
 "nbformat": 4,
 "nbformat_minor": 5
}
